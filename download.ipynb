{
 "cells": [
  {
   "cell_type": "code",
   "execution_count": 1,
   "metadata": {},
   "outputs": [],
   "source": [
    "import cdsapi\n",
    "c = cdsapi.Client()"
   ]
  },
  {
   "attachments": {},
   "cell_type": "markdown",
   "metadata": {},
   "source": [
    "The below pulls down data with the larger area around the Smith area.\n",
    "\n",
    "t2mfile = '/Users/ryaneagan/netcdfdata/ddu_data/ddu_pt_summer_91_21.nc' : t2m, d2m, sp\n",
    "sstfile = '/Users/ryaneagan/netcdfdata/ddu_data/ddu_sst_summer_91_21.nc' : sst\n",
    "solarfile = '/Users/ryaneagan/netcdfdata/ddu_data/ddu_solar_summer_91_21.nc' : ssr, ssrc, ssrdc, ssrd, cdir, uvb\n",
    "oceanfile = '/Users/ryaneagan/netcdfdata/ddu_data/ddu_ocean_summer_91_21.nc' : mdts, swh\n",
    "windfile = '/Users/ryaneagan/netcdfdata/ddu_data/ddu_wind_summer_91_21.nc' : u10, v10\n",
    "\n"
   ]
  },
  {
   "cell_type": "code",
   "execution_count": 14,
   "metadata": {},
   "outputs": [],
   "source": [
    "#t2mfile    = '/Volumes/Ryan_SSD/MAST638_Data/ERA5/t2m_2003_2023.nc' # done\n",
    "#sstfile     = '/Volumes/Ryan_SSD/MAST638_Data/ERA5/sst_2003_2023.nc' #done\n",
    "#dlwfile    = '/Volumes/Ryan_SSD/MAST638_Data/ERA5/dlw_2003_2023.nc' #done\n",
    "#windfile   = '/Volumes/Ryan_SSD/MAST638_Data/ERA5/wnd_2003_2023.nc' #done\n",
    "#cloudfile  = '/Volumes/Ryan_SSD/MAST638_Data/ERA5/cld_2003_2023.nc' #done\n",
    "rhfile     = '/Volumes/Ryan_SSD/MAST638_Data/ERA5/rhp_2003_2023.nc'\n",
    "\n"
   ]
  },
  {
   "cell_type": "code",
   "execution_count": 15,
   "metadata": {},
   "outputs": [],
   "source": [
    "# Variables\n",
    "\n",
    "# full study area\n",
    "#smith_area = [-60, 120, -70, 160]\n",
    "\n",
    "ddu_area = [-60, 139, -70, 146]\n",
    "\n",
    "# Output file\n",
    "savefile = rhfile\n",
    "\n",
    "# Variable\n",
    "thevar = [\n",
    "                'low_cloud_cover', 'total_cloud_cover'\n",
    "        ]\n",
    "\n",
    "\n",
    "# Years\n",
    "years = [\n",
    "        '2003',\n",
    "        '2004',\n",
    "        '2005',\n",
    "        '2006',\n",
    "        '2007',\n",
    "        '2008',\n",
    "        '2009',\n",
    "        '2010',\n",
    "        '2011',\n",
    "        '2012',\n",
    "        '2013',\n",
    "        '2014',\n",
    "        '2015',\n",
    "        '2016',\n",
    "        '2017',\n",
    "        '2018',\n",
    "        '2019',\n",
    "        '2020',\n",
    "        '2021',\n",
    "        '2022'\n",
    "]\n",
    "\n",
    "months = ['01','02','03','04','05','06','07','08','09','10','11','12']\n",
    "\n",
    "\n"
   ]
  },
  {
   "cell_type": "code",
   "execution_count": null,
   "metadata": {},
   "outputs": [],
   "source": [
    "vars = [\n",
    "            '2m_dewpoint_temperature', \n",
    "            '2m_temperature', \n",
    "            'sst',\n",
    "            'sea_surface_temperature',\n",
    "            '10m_u_component_of_wind', \n",
    "            '10m_v_component_of_wind'\n",
    "            'clear_sky_direct_solar_radiation_at_surface',\n",
    "        ]\n",
    "\n",
    "'10m_u_component_of_wind', \n",
    "'10m_v_component_of_wind', \n",
    "'2m_dewpoint_temperature',\n",
    "'2m_temperature',\n",
    "'surface_pressure',\n",
    "'clear_sky_direct_solar_radiation_at_surface', \n",
    "'downward_uv_radiation_at_the_surface',\n",
    "'mean_direction_of_total_swell', \n",
    "'mean_sea_level_pressure', \n",
    "'sea_surface_temperature',\n",
    "'significant_height_of_combined_wind_waves_and_swell', \n",
    "'snow_albedo', \n",
    "'surface_net_solar_radiation',\n",
    "'surface_net_solar_radiation_clear_sky', \n",
    "'surface_pressure', \n",
    "'surface_solar_radiation_downward_clear_sky',\n",
    "'surface_solar_radiation_downwards', \n",
    "'total_cloud_cover',\n",
    "'cloud_base_height',\n",
    "'low_cloud_cover', 'total_cloud_cover',\n",
    "\n",
    "'surface_net_solar_radiation',\n",
    "'surface_net_solar_radiation_clear_sky', \n",
    "'surface_solar_radiation_downward_clear_sky',\n",
    "'surface_solar_radiation_downwards',\n",
    "'clear_sky_direct_solar_radiation_at_surface', \n",
    "'downward_uv_radiation_at_the_surface',\n",
    "'mean_direction_of_total_swell', \n",
    "        'significant_height_of_combined_wind_waves_and_swell'\n"
   ]
  },
  {
   "cell_type": "code",
   "execution_count": 16,
   "metadata": {},
   "outputs": [
    {
     "name": "stderr",
     "output_type": "stream",
     "text": [
      "2023-12-06 08:41:36,273 INFO Welcome to the CDS\n",
      "2023-12-06 08:41:36,274 INFO Sending request to https://cds.climate.copernicus.eu/api/v2/resources/reanalysis-era5-pressure-levels\n",
      "2023-12-06 08:41:36,534 INFO Request is queued\n",
      "2023-12-06 08:45:56,376 INFO Request is running\n",
      "2023-12-06 09:33:25,420 WARNING Connection error: [('Connection aborted.', RemoteDisconnected('Remote end closed connection without response'))]. Attempt 1 of 500.\n",
      "2023-12-06 09:33:25,421 WARNING Retrying in 120 seconds\n",
      "2023-12-06 09:35:25,427 INFO Retrying now...\n",
      "2023-12-06 09:59:33,954 INFO Request is completed\n",
      "2023-12-06 09:59:33,959 INFO Downloading https://download-0004-clone.copernicus-climate.eu/cache-compute-0004/cache/data2/adaptor.mars.internal-1701873754.4919665-14632-6-9d25783e-3ee9-4cf9-9d90-95844f12769a.nc to /Volumes/Ryan_SSD/MAST638_Data/ERA5/rhp_2003_2023.nc (132.6M)\n",
      "2023-12-06 09:59:41,835 INFO Download rate 16.8M/s \n"
     ]
    },
    {
     "data": {
      "text/plain": [
       "Result(content_length=139088880,content_type=application/x-netcdf,location=https://download-0004-clone.copernicus-climate.eu/cache-compute-0004/cache/data2/adaptor.mars.internal-1701873754.4919665-14632-6-9d25783e-3ee9-4cf9-9d90-95844f12769a.nc)"
      ]
     },
     "execution_count": 16,
     "metadata": {},
     "output_type": "execute_result"
    }
   ],
   "source": [
    "c.retrieve(\n",
    "    'reanalysis-era5-pressure-levels',\n",
    "    {\n",
    "        'product_type': 'reanalysis',\n",
    "        'format': 'netcdf',\n",
    "        'variable': [\n",
    "            'geopotential', 'relative_humidity',\n",
    "        ],\n",
    "        'pressure_level': '1000',\n",
    "        'year': years,\n",
    "        'month': months,\n",
    "        'day': [\n",
    "            '01', '02', '03',\n",
    "            '04', '05', '06',\n",
    "            '07', '08', '09',\n",
    "            '10', '11', '12',\n",
    "            '13', '14', '15',\n",
    "            '16', '17', '18',\n",
    "            '19', '20', '21',\n",
    "            '22', '23', '24',\n",
    "            '25', '26', '27',\n",
    "            '28', '29', '30',\n",
    "            '31'\n",
    "        ],\n",
    "        'time': [\n",
    "            '00:00', '06:00', '12:00', '18:00'\n",
    "        ],\n",
    "        'area': ddu_area,\n",
    "        'format': 'netcdf',\n",
    "    },\n",
    "    savefile)"
   ]
  },
  {
   "cell_type": "code",
   "execution_count": 13,
   "metadata": {},
   "outputs": [
    {
     "name": "stderr",
     "output_type": "stream",
     "text": [
      "2023-12-05 20:17:44,097 INFO Welcome to the CDS\n",
      "2023-12-05 20:17:44,098 INFO Sending request to https://cds.climate.copernicus.eu/api/v2/resources/reanalysis-era5-single-levels\n",
      "2023-12-05 20:17:44,291 INFO Request is queued\n",
      "2023-12-05 20:17:45,440 INFO Request is running\n",
      "2023-12-05 21:28:51,345 WARNING Connection error: [HTTPSConnectionPool(host='cds.climate.copernicus.eu', port=443): Read timed out. (read timeout=60)]. Attempt 1 of 500.\n",
      "2023-12-05 21:28:51,349 WARNING Retrying in 120 seconds\n",
      "2023-12-05 21:45:51,496 INFO Retrying now...\n",
      "2023-12-05 21:45:52,705 INFO Request is completed\n",
      "2023-12-05 21:45:52,707 INFO Downloading https://download-0001-clone.copernicus-climate.eu/cache-compute-0001/cache/data3/adaptor.mars.internal-1701828772.2256706-2271-10-6b5e1638-a78b-4ec6-a81f-b719acb7f039.nc to /Volumes/Ryan_SSD/MAST638_Data/ERA5/cld_2003_2023.nc (132.6M)\n",
      "2023-12-05 21:46:00,920 INFO Download rate 16.2M/s \n"
     ]
    },
    {
     "data": {
      "text/plain": [
       "Result(content_length=139088844,content_type=application/x-netcdf,location=https://download-0001-clone.copernicus-climate.eu/cache-compute-0001/cache/data3/adaptor.mars.internal-1701828772.2256706-2271-10-6b5e1638-a78b-4ec6-a81f-b719acb7f039.nc)"
      ]
     },
     "execution_count": 13,
     "metadata": {},
     "output_type": "execute_result"
    }
   ],
   "source": [
    "c.retrieve(\n",
    "    'reanalysis-era5-single-levels',\n",
    "    {\n",
    "        'product_type': 'reanalysis',\n",
    "        'variable': thevar,\n",
    "        'year': years,\n",
    "        'month': months,\n",
    "        'day': [\n",
    "            '01', '02', '03',\n",
    "            '04', '05', '06',\n",
    "            '07', '08', '09',\n",
    "            '10', '11', '12',\n",
    "            '13', '14', '15',\n",
    "            '16', '17', '18',\n",
    "            '19', '20', '21',\n",
    "            '22', '23', '24',\n",
    "            '25', '26', '27',\n",
    "            '28', '29', '30',\n",
    "            '31'\n",
    "        ],\n",
    "        'time': [\n",
    "            '00:00', '06:00', '12:00', '18:00'\n",
    "        ],\n",
    "        'area': ddu_area,\n",
    "        'format': 'netcdf',\n",
    "    },\n",
    "    savefile)"
   ]
  },
  {
   "attachments": {},
   "cell_type": "markdown",
   "metadata": {},
   "source": []
  },
  {
   "attachments": {},
   "cell_type": "markdown",
   "metadata": {},
   "source": [
    "Automated script to pull down data from a provided time frame and for a provided variable."
   ]
  },
  {
   "cell_type": "code",
   "execution_count": null,
   "metadata": {},
   "outputs": [],
   "source": [
    "            '1951', '1952', '1953',\n",
    "            '1954', '1955', '1956',\n",
    "            '1957', '1958', '1959',\n",
    "            '1960', '1961', '1962',\n",
    "            '1963', '1964', '1965',\n",
    "            '1966', '1967', '1968',\n",
    "            '1969', '1970', '1971',\n",
    "            '1972', '1973', '1974',\n",
    "            '1975', '1976', '1977',\n",
    "            '1978', '1979', '1980',\n",
    "            '1981', '1982', '1983',\n",
    "            '1984', '1985', '1986',\n",
    "            '1987', '1988', '1989',\n",
    "            '1990', '1991', '1992',\n",
    "            '1993', '1994', '1995',\n",
    "            '1996', '1997', '1998',\n",
    "            '1999', '2000', '2001',\n",
    "            '2002', '2003', '2004',\n",
    "            '2005', '2006', '2007',\n",
    "            '2008', '2009', '2010',\n",
    "            '2011', '2012', '2013',\n",
    "            '2014', '2015', '2016',\n",
    "            '2017', '2018', '2019',\n",
    "            '2020', '2021', '2022'"
   ]
  }
 ],
 "metadata": {
  "kernelspec": {
   "display_name": "GageData",
   "language": "python",
   "name": "python3"
  },
  "language_info": {
   "codemirror_mode": {
    "name": "ipython",
    "version": 3
   },
   "file_extension": ".py",
   "mimetype": "text/x-python",
   "name": "python",
   "nbconvert_exporter": "python",
   "pygments_lexer": "ipython3",
   "version": "3.11.6"
  },
  "orig_nbformat": 4
 },
 "nbformat": 4,
 "nbformat_minor": 2
}
